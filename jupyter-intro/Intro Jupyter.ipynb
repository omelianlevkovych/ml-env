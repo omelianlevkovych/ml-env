{
 "cells": [
  {
   "cell_type": "markdown",
   "id": "8894dbd4-7da9-437d-944d-47f0fb625fe9",
   "metadata": {},
   "source": [
    "Intro to Jupyter Notebook\n",
    "\n",
    "Jupyter notebooks have two main types of cells: markdown and code."
   ]
  },
  {
   "cell_type": "code",
   "execution_count": 2,
   "id": "bdb66bd7-963e-467d-b3b4-289f7604aef8",
   "metadata": {},
   "outputs": [
    {
     "name": "stdout",
     "output_type": "stream",
     "text": [
      "this is a code cell\n"
     ]
    }
   ],
   "source": [
    "# this is a code cells\n",
    "print(\"this is a code cell\")"
   ]
  },
  {
   "cell_type": "code",
   "execution_count": 3,
   "id": "3f5f41b1-8916-479e-a61d-6b7a42bee9f9",
   "metadata": {},
   "outputs": [
    {
     "name": "stdout",
     "output_type": "stream",
     "text": [
      "f strings allow to embed variables right into the strings!\n"
     ]
    }
   ],
   "source": [
    "output = \"right into the strings!\"\n",
    "print(f\"f strings allow to embed variables {output}\")"
   ]
  },
  {
   "cell_type": "code",
   "execution_count": null,
   "id": "f5df22d8-bb5e-479a-9f93-0a1a0bf88b2d",
   "metadata": {},
   "outputs": [],
   "source": []
  }
 ],
 "metadata": {
  "kernelspec": {
   "display_name": "Python 3 (ipykernel)",
   "language": "python",
   "name": "python3"
  },
  "language_info": {
   "codemirror_mode": {
    "name": "ipython",
    "version": 3
   },
   "file_extension": ".py",
   "mimetype": "text/x-python",
   "name": "python",
   "nbconvert_exporter": "python",
   "pygments_lexer": "ipython3",
   "version": "3.13.2"
  }
 },
 "nbformat": 4,
 "nbformat_minor": 5
}
